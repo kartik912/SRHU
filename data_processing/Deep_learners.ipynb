{
  "cells": [
    {
      "cell_type": "code",
      "execution_count": null,
      "metadata": {
        "colab": {
          "base_uri": "https://localhost:8080/"
        },
        "id": "jM1pmSDC3NaW",
        "outputId": "02634cb8-2b5d-4a87-c608-22a342c5eddd"
      },
      "outputs": [
        {
          "output_type": "stream",
          "name": "stdout",
          "text": [
            "Drive already mounted at /content/drive; to attempt to forcibly remount, call drive.mount(\"/content/drive\", force_remount=True).\n"
          ]
        }
      ],
      "source": [
        "from google.colab import drive\n",
        "drive.mount('/content/drive')"
      ]
    },
    {
      "cell_type": "code",
      "execution_count": 63,
      "metadata": {
        "id": "G9bOlOniydjH"
      },
      "outputs": [],
      "source": [
        "import pandas as pd\n",
        "import matplotlib\n",
        "import matplotlib.pyplot as plt\n",
        "\n",
        "# import scikit-learn\n"
      ]
    },
    {
      "cell_type": "code",
      "execution_count": 92,
      "metadata": {
        "id": "ou5-1XuMLb9S",
        "colab": {
          "base_uri": "https://localhost:8080/"
        },
        "outputId": "97073078-6b1e-47de-b018-1dbe1e2ed27f"
      },
      "outputs": [
        {
          "output_type": "stream",
          "name": "stdout",
          "text": [
            "(208, 18)\n",
            "(1000, 9)\n",
            "(212, 15)\n"
          ]
        }
      ],
      "source": [
        "import pandas as pd\n",
        "\n",
        "# Load each CSV file\n",
        "expiration_df = pd.read_csv('/content/drive/MyDrive/dataset/pharmacyDatasetEx.csv')\n",
        "# purchase_df = pd.read_csv('/content/drive/MyDrive/dataset/pharmacyDatasetpurchase.csv')\n",
        "sales_df = pd.read_csv('/content/drive/MyDrive/dataset/pharmacyDatasetSales.csv')\n",
        "Patient_df= pd.read_csv('/content/drive/MyDrive/dataset/Patient data.csv')\n",
        "\n",
        "print(sales_df.shape)\n",
        "print(Patient_df.shape)\n",
        "print(expiration_df .shape)"
      ]
    },
    {
      "cell_type": "code",
      "execution_count": null,
      "metadata": {
        "colab": {
          "base_uri": "https://localhost:8080/"
        },
        "id": "qSjo6ThNy40-",
        "outputId": "ff587c41-0fd7-44a0-b4f3-e23cb83a7ac7"
      },
      "outputs": [
        {
          "output_type": "stream",
          "name": "stdout",
          "text": [
            "Column Names: ['patient_id', 'first_name', 'last_name', 'age', 'gender', 'Daignosis', 'prescription', 'date of birth', 'month of diagnosis']\n"
          ]
        }
      ],
      "source": [
        "\n",
        "# final_df.drop_duplicates(subset=['drug_name_x', 'year'], keep='first', inplace=True)\n",
        "# print(final_df.shape)\n",
        "column_names = Patient_df.columns.tolist()\n",
        "print(\"Column Names:\",column_names)\n",
        "# print(final_df)"
      ]
    },
    {
      "cell_type": "code",
      "source": [
        "Prescription=Patient_df['prescription']\n",
        "m_o_d=Patient_df['month of diagnosis']"
      ],
      "metadata": {
        "id": "sVpm2pLW7JFu"
      },
      "execution_count": null,
      "outputs": []
    },
    {
      "cell_type": "code",
      "execution_count": null,
      "metadata": {
        "id": "wqO2cxmtz_nv"
      },
      "outputs": [],
      "source": [
        "# from sklearn.model_selection import train_test_split\n",
        "# from sklearn.ensemble import RandomForestClassifier\n",
        "\n",
        "# # Assuming 'medicine' is the target variable and other columns are features\n",
        "# X = df.drop(['medicine', 'date'], axis=1)\n",
        "# y = df['medicine']\n",
        "\n",
        "# X_train, X_test, y_train, y_test = train_test_split(X, y, test_size=0.2, random_state=42)\n",
        "\n",
        "# model = RandomForestClassifier()\n",
        "# model.fit(X_train, y_train)\n"
      ]
    },
    {
      "cell_type": "code",
      "source": [
        "# purchase_df = pd.DataFrame({\n",
        "#     'drug_name': ['DrugA', 'DrugB', 'DrugC'],\n",
        "#     'month_of_diagnosis': ['Jan', 'Feb', 'Mar'],\n",
        "#     'quantity_purchased': [10, 20, 30]\n",
        "# })\n",
        "\n",
        "# sales_df = pd.DataFrame({\n",
        "#     'drug_name': ['DrugA', 'DrugB', 'DrugC'],\n",
        "#     'month_of_diagnosis': ['Jan', 'Feb', 'Mar'],\n",
        "#     'quantity_sold': [5, 15, 25]\n",
        "# })\n",
        "\n"
      ],
      "metadata": {
        "id": "B45S8U1P-rSr"
      },
      "execution_count": null,
      "outputs": []
    },
    {
      "cell_type": "code",
      "source": [
        "a=0\n",
        "b=0\n",
        "c=0\n",
        "d=0\n",
        "for _, row in sales_df.iterrows():\n",
        "    x = int(row['November_sales']) + int(row['December_sales']) + int(row['January_sales'])\n",
        "    autumn += summer\n",
        "    print(autumn)\n"
      ],
      "metadata": {
        "id": "9rCZYbXTEHRE"
      },
      "execution_count": null,
      "outputs": []
    },
    {
      "cell_type": "code",
      "source": [
        "import pandas as pd\n",
        "\n",
        "# Assuming sales_df is your DataFrame\n",
        "result = sales_df.groupby(['drug_name', 'drug_type']).agg({\n",
        "    'November_sales': 'sum',\n",
        "    'December_sales': 'sum',\n",
        "    'January_sales': 'sum'\n",
        "}).reset_index()\n",
        "\n",
        "print(result)\n"
      ],
      "metadata": {
        "id": "PlqAp6l9R3Ks"
      },
      "execution_count": null,
      "outputs": []
    },
    {
      "cell_type": "code",
      "source": [
        "df = pd.DataFrame(sales_df)\n",
        "\n",
        "# Create a new DataFrame with a single column 'summer' containing the sum of 'jan' and 'feb' columns\n",
        "new_df = pd.DataFrame()\n",
        "new_df['winter'] = df[['January_sales', 'December_sales','November_sales']].sum(axis=1)"
      ],
      "metadata": {
        "id": "Rj1wCC_UVFGy"
      },
      "execution_count": null,
      "outputs": []
    },
    {
      "cell_type": "code",
      "source": [
        "import pandas as pd\n",
        "\n",
        "new_df = pd.DataFrame()\n",
        "new_df['winter'] = sales_df[['January_sales', 'December_sales', 'November_sales']].sum(axis=1)\n",
        "\n",
        "# Create a DataFrame from sales_df containing only 'drug_name' and 'drug_type' columns\n",
        "drug_info_df = sales_df[['drug_name', 'drug_type']]\n",
        "\n",
        "# Concatenate new_df and drug_info_df along the columns axis\n",
        "new_df = pd.concat([new_df, drug_info_df], axis=1)\n",
        "\n",
        "print(new_df)\n",
        "\n"
      ],
      "metadata": {
        "id": "yS0nYYjsVcjn",
        "colab": {
          "base_uri": "https://localhost:8080/"
        },
        "outputId": "76226bfb-1921-4221-95e6-1b93a7f5b7b1"
      },
      "execution_count": 94,
      "outputs": [
        {
          "output_type": "stream",
          "name": "stdout",
          "text": [
            "     winter            drug_name              drug_type\n",
            "0       344          Paracetamol          Pain reliever\n",
            "1       192         Azithromycin             Antibiotic\n",
            "2        96           Salbutamol                Inhaler\n",
            "3       248            Metformin               Diabetes\n",
            "4       120             Losartan         Blood pressure\n",
            "..      ...                  ...                    ...\n",
            "203     192         Methotrexate     Chemotherapy agent\n",
            "204      96         Esomeprazole  Proton-pump inhibitor\n",
            "205     248  Hydrochlorothiazide      Thiazide diuretic\n",
            "206     120           Citalopram    SSRI antidepressant\n",
            "207     344           Lisinopril          ACE inhibitor\n",
            "\n",
            "[208 rows x 3 columns]\n"
          ]
        }
      ]
    },
    {
      "cell_type": "code",
      "source": [
        "\n",
        "\n",
        "import pandas as pd\n",
        "\n",
        "# Assuming sales_df is your original DataFrame\n",
        "\n",
        "# Create a new DataFrame with a single column 'summer' containing the sum of 'jan' and 'feb' columns\n",
        "new_df_s = pd.DataFrame()\n",
        "new_df_s['summer'] = sales_df[['May_sales', 'June_sales', 'July_sales']].sum(axis=1)\n",
        "\n",
        "# Create a DataFrame from sales_df containing only 'drug_name' and 'drug_type' columns\n",
        "drug_info_df = sales_df[['drug_name', 'drug_type']]\n",
        "\n",
        "# Concatenate new_df and drug_info_df along the columns axis\n",
        "new_df_s = pd.concat([new_df_s, drug_info_df], axis=1)\n",
        "\n",
        "print(new_df_s)\n",
        "\n"
      ],
      "metadata": {
        "id": "_hspmJFMXI0M",
        "colab": {
          "base_uri": "https://localhost:8080/"
        },
        "outputId": "2e37f710-be45-4f41-dbc1-53aa9ba78912"
      },
      "execution_count": 67,
      "outputs": [
        {
          "output_type": "stream",
          "name": "stdout",
          "text": [
            "     summer            drug_name              drug_type\n",
            "0       272          Paracetamol          Pain reliever\n",
            "1       152         Azithromycin             Antibiotic\n",
            "2        96           Salbutamol                Inhaler\n",
            "3       200            Metformin               Diabetes\n",
            "4       120             Losartan         Blood pressure\n",
            "..      ...                  ...                    ...\n",
            "203     152         Methotrexate     Chemotherapy agent\n",
            "204      96         Esomeprazole  Proton-pump inhibitor\n",
            "205     200  Hydrochlorothiazide      Thiazide diuretic\n",
            "206     120           Citalopram    SSRI antidepressant\n",
            "207     272           Lisinopril          ACE inhibitor\n",
            "\n",
            "[208 rows x 3 columns]\n"
          ]
        }
      ]
    },
    {
      "cell_type": "code",
      "source": [
        "# new_df.concat([sales_df['drug_name','drug_type']],axis=1)\n",
        "# print(new_df)\n",
        "\n",
        "# merged_df = df_to_merge.merge(sales_df[['drug_name', 'drug_type']], on=['drug_name', 'drug_type'], how='inner')\n",
        "# print(merged_df)\n",
        "\n",
        "import pandas as pd\n",
        "\n",
        "# Assuming sales_df is your original DataFrame\n",
        "\n",
        "# Create a new DataFrame with a single column 'summer' containing the sum of 'jan' and 'feb' columns\n",
        "new_df_sp = pd.DataFrame()\n",
        "new_df_sp['spring'] = sales_df[['February_sales', 'March_sales', 'April_sales']].sum(axis=1)\n",
        "\n",
        "# Create a DataFrame from sales_df containing only 'drug_name' and 'drug_type' columns\n",
        "drug_info_df = sales_df[['drug_name', 'drug_type']]\n",
        "\n",
        "# Concatenate new_df and drug_info_df along the columns axis\n",
        "new_df_sp = pd.concat([new_df_sp, drug_info_df], axis=1)\n",
        "\n",
        "print(new_df_sp)\n",
        "\n"
      ],
      "metadata": {
        "id": "KCFigNafXiji",
        "colab": {
          "base_uri": "https://localhost:8080/"
        },
        "outputId": "96a4b4dd-e5c2-465c-bc67-dac6aee7c7e5"
      },
      "execution_count": 68,
      "outputs": [
        {
          "output_type": "stream",
          "name": "stdout",
          "text": [
            "     spring            drug_name              drug_type\n",
            "0       280          Paracetamol          Pain reliever\n",
            "1       152         Azithromycin             Antibiotic\n",
            "2        88           Salbutamol                Inhaler\n",
            "3       224            Metformin               Diabetes\n",
            "4       112             Losartan         Blood pressure\n",
            "..      ...                  ...                    ...\n",
            "203     152         Methotrexate     Chemotherapy agent\n",
            "204      88         Esomeprazole  Proton-pump inhibitor\n",
            "205     224  Hydrochlorothiazide      Thiazide diuretic\n",
            "206     112           Citalopram    SSRI antidepressant\n",
            "207     280           Lisinopril          ACE inhibitor\n",
            "\n",
            "[208 rows x 3 columns]\n"
          ]
        }
      ]
    },
    {
      "cell_type": "code",
      "source": [
        "# new_df.concat([sales_df['drug_name','drug_type']],axis=1)\n",
        "# print(new_df)\n",
        "\n",
        "# merged_df = df_to_merge.merge(sales_df[['drug_name', 'drug_type']], on=['drug_name', 'drug_type'], how='inner')\n",
        "# print(merged_df)\n",
        "\n",
        "import pandas as pd\n",
        "\n",
        "# Assuming sales_df is your original DataFrame\n",
        "\n",
        "# Create a new DataFrame with a single column 'summer' containing the sum of 'jan' and 'feb' columns\n",
        "new_df_aut = pd.DataFrame()\n",
        "new_df_aut['autum'] = sales_df[['August_sales', 'September_sales', 'October_sales']].sum(axis=1)\n",
        "\n",
        "# Create a DataFrame from sales_df containing only 'drug_name' and 'drug_type' columns\n",
        "drug_info_df = sales_df[['drug_name', 'drug_type']]\n",
        "\n",
        "# Concatenate new_df and drug_info_df along the columns axis\n",
        "new_df_aut = pd.concat([new_df_aut, drug_info_df], axis=1)\n",
        "\n",
        "print(new_df_aut)\n",
        "\n",
        "+"
      ],
      "metadata": {
        "id": "gdg73DpQYs-1",
        "colab": {
          "base_uri": "https://localhost:8080/"
        },
        "outputId": "5f266eab-3859-4b5c-9667-f73bc2fca2bc"
      },
      "execution_count": 69,
      "outputs": [
        {
          "output_type": "stream",
          "name": "stdout",
          "text": [
            "     autum            drug_name              drug_type\n",
            "0      280          Paracetamol          Pain reliever\n",
            "1      168         Azithromycin             Antibiotic\n",
            "2       88           Salbutamol                Inhaler\n",
            "3      216            Metformin               Diabetes\n",
            "4      112             Losartan         Blood pressure\n",
            "..     ...                  ...                    ...\n",
            "203    168         Methotrexate     Chemotherapy agent\n",
            "204     88         Esomeprazole  Proton-pump inhibitor\n",
            "205    216  Hydrochlorothiazide      Thiazide diuretic\n",
            "206    112           Citalopram    SSRI antidepressant\n",
            "207    280           Lisinopril          ACE inhibitor\n",
            "\n",
            "[208 rows x 3 columns]\n"
          ]
        }
      ]
    },
    {
      "cell_type": "code",
      "source": [
        "sorted_df_winter = new_df.sort_values('winter',ascending=False)\n",
        "sorted_df_summer = new_df_s.sort_values('summer',ascending=False)\n",
        "sorted_df_spring = new_df_sp.sort_values('spring',ascending=False)\n",
        "sorted_df_autum = new_df_aut.sort_values('autum',ascending=False)"
      ],
      "metadata": {
        "id": "3R1PT6aZcDpX"
      },
      "execution_count": 78,
      "outputs": []
    },
    {
      "cell_type": "code",
      "source": [
        "s= []\n",
        "w= []\n",
        "aut = []\n",
        "sp = []\n",
        "win=[]\n",
        "sumer=[]\n",
        "sprin=[]\n",
        "atum=[]\n",
        "\n",
        "seasons = {\n",
        "    'winter': sorted_df_winter,\n",
        "    'summer': sorted_df_summer,\n",
        "    'autumn': sorted_df_autum,\n",
        "    'spring': sorted_df_spring\n",
        "}\n",
        "\n",
        "\n",
        "for _, row in sorted_df_winter.iterrows():\n",
        "    w.append(row['drug_name'])\n",
        "    win.append(row['winter'])\n",
        "for _, row in sorted_df_summer.iterrows():\n",
        "    s.append(row['drug_name'])\n",
        "    sumer.append(row['summer'])\n",
        "for _, row in sorted_df_spring.iterrows():\n",
        "    sp.append(row['drug_name'])\n",
        "    sprin.append(row['spring'])\n",
        "for _, row in sorted_df_autum.iterrows():\n",
        "    aut.append(row['drug_name'])\n",
        "    atum.append(row['autum'])\n",
        "\n",
        "print(s)\n",
        "print(w)\n",
        "print(sp)\n",
        "print(aut)"
      ],
      "metadata": {
        "colab": {
          "base_uri": "https://localhost:8080/"
        },
        "id": "j9qgaxSJY-zG",
        "outputId": "7028550e-8dc2-4a21-c8c5-cc418467296e"
      },
      "execution_count": 107,
      "outputs": [
        {
          "output_type": "stream",
          "name": "stdout",
          "text": [
            "['Paracetamol', 'Amoxicillin', 'Phenobarbital', 'Furosemide', 'Amoxicillin', 'Mirtazapine', 'Levothyroxine', 'Methylphenidate', 'Bupropion', 'Lorazepam', 'Ibuprofen', 'Paracetamol', 'Lisinopril', 'Mirtazapine', 'Warfarin', 'Varenicline', 'Phenobarbital', 'Varenicline', 'Warfarin', 'Mirtazapine', 'Paracetamol', 'Mirtazapine', 'Levothyroxine', 'Methylphenidate', 'Bupropion', 'Lorazepam', 'Ibuprofen', 'Mirtazapine', 'Lisinopril', 'Levothyroxine', 'Methylphenidate', 'Bupropion', 'Lorazepam', 'Ibuprofen', 'Paracetamol', 'Furosemide', 'Lisinopril', 'Lisinopril', 'Ibuprofen', 'Lorazepam', 'Methylphenidate', 'Lisinopril', 'Mirtazapine', 'Levothyroxine', 'Bupropion', 'Tiotropium', 'Fluoxetine', 'Tiotropium', 'Hydrochlorothiazide', 'Metformin', 'Lorazepam', 'Metoprolol', 'Bupropion', 'Montelukast', 'Lorazepam', 'Levothyroxine', 'Montelukast', 'Hydrochlorothiazide', 'Tadalafil', 'Ranitidine', 'Ranitidine', 'Hydrochlorothiazide', 'Fluoxetine', 'Metformin', 'Tiotropium', 'Montelukast', 'Tadalafil', 'Metformin', 'Ranitidine', 'Ranitidine', 'Hydrochlorothiazide', 'Fluoxetine', 'Tiotropium', 'Montelukast', 'Tadalafil', 'Tadalafil', 'Methylphenidate', 'Bupropion', 'Metoprolol', 'Hydrochlorothiazide', 'Metformin', 'Hydrochlorothiazide', 'Methylphenidate', 'Levothyroxine', 'Fluoxetine', 'Memantine', 'Memantine', 'Methotrexate', 'Fluoxetine', 'Fluoxetine', 'Tiotropium', 'Methotrexate', 'Montelukast', 'Methotrexate', 'Tadalafil', 'Azithromycin', 'Tiotropium', 'Amoxicillin', 'Tadalafil', 'Clopidogrel', 'Clopidogrel', 'Memantine', 'Amoxicillin', 'Clopidogrel', 'Ondansetron', 'Risperidone', 'Montelukast', 'Methotrexate', 'Amoxicillin', 'Azithromycin', 'Ondansetron', 'Ondansetron', 'Atorvastatin', 'Amoxicillin', 'Methotrexate', 'Ondansetron', 'Azithromycin', 'Methotrexate', 'Metformin', 'Memantine', 'Azithromycin', 'Risperidone', 'Metformin', 'Risperidone', 'Atorvastatin', 'Clopidogrel', 'Risperidone', 'Clozapine', 'Memantine', 'Metoprolol', 'Baclofen', 'Baclofen', 'Clozapine', 'Citalopram', 'Losartan', 'Celecoxib', 'Pregabalin', 'Citalopram', 'Ondansetron', 'Celecoxib', 'Ibuprofen', 'Clozapine', 'Metoprolol', 'Baclofen', 'Metoprolol', 'Losartan', 'Clopidogrel', 'Citalopram', 'Baclofen', 'Memantine', 'Ibuprofen', 'Citalopram', 'Ondansetron', 'Celecoxib', 'Losartan', 'Clozapine', 'Risperidone', 'Losartan', 'Pregabalin', 'Citalopram', 'Metoprolol', 'Risperidone', 'Pregabalin', 'Celecoxib', 'Pregabalin', 'Clopidogrel', 'Esomeprazole', 'Furosemide', 'Atorvastatin', 'Ranitidine', 'Warfarin', 'Varenicline', 'Atorvastatin', 'Clozapine', 'Phenobarbital', 'Salbutamol', 'Atorvastatin', 'Salbutamol', 'Baclofen', 'Warfarin', 'Furosemide', 'Phenobarbital', 'Varenicline', 'Warfarin', 'Salbutamol', 'Esomeprazole', 'Losartan', 'Varenicline', 'Ranitidine', 'Clozapine', 'Esomeprazole', 'Celecoxib', 'Pregabalin', 'Esomeprazole', 'Pregabalin', 'Phenobarbital', 'Esomeprazole', 'Esomeprazole', 'Salbutamol', 'Atorvastatin', 'Baclofen', 'Furosemide', 'Furosemide', 'Phenobarbital', 'Varenicline', 'Celecoxib', 'Warfarin', 'Losartan']\n",
            "['Paracetamol', 'Amoxicillin', 'Phenobarbital', 'Furosemide', 'Amoxicillin', 'Mirtazapine', 'Levothyroxine', 'Methylphenidate', 'Bupropion', 'Lorazepam', 'Ibuprofen', 'Paracetamol', 'Lisinopril', 'Mirtazapine', 'Warfarin', 'Varenicline', 'Phenobarbital', 'Varenicline', 'Warfarin', 'Mirtazapine', 'Paracetamol', 'Mirtazapine', 'Levothyroxine', 'Methylphenidate', 'Bupropion', 'Lorazepam', 'Ibuprofen', 'Mirtazapine', 'Lisinopril', 'Levothyroxine', 'Methylphenidate', 'Bupropion', 'Lorazepam', 'Ibuprofen', 'Paracetamol', 'Furosemide', 'Lisinopril', 'Lisinopril', 'Ibuprofen', 'Lorazepam', 'Methylphenidate', 'Lisinopril', 'Mirtazapine', 'Levothyroxine', 'Bupropion', 'Tiotropium', 'Fluoxetine', 'Tiotropium', 'Hydrochlorothiazide', 'Metformin', 'Lorazepam', 'Metoprolol', 'Bupropion', 'Montelukast', 'Lorazepam', 'Levothyroxine', 'Montelukast', 'Hydrochlorothiazide', 'Tadalafil', 'Ranitidine', 'Ranitidine', 'Hydrochlorothiazide', 'Fluoxetine', 'Metformin', 'Tiotropium', 'Montelukast', 'Tadalafil', 'Metformin', 'Ranitidine', 'Ranitidine', 'Hydrochlorothiazide', 'Fluoxetine', 'Tiotropium', 'Montelukast', 'Tadalafil', 'Tadalafil', 'Methylphenidate', 'Bupropion', 'Metoprolol', 'Hydrochlorothiazide', 'Metformin', 'Hydrochlorothiazide', 'Methylphenidate', 'Levothyroxine', 'Fluoxetine', 'Memantine', 'Memantine', 'Methotrexate', 'Fluoxetine', 'Fluoxetine', 'Tiotropium', 'Methotrexate', 'Montelukast', 'Methotrexate', 'Tadalafil', 'Azithromycin', 'Tiotropium', 'Amoxicillin', 'Tadalafil', 'Clopidogrel', 'Clopidogrel', 'Memantine', 'Amoxicillin', 'Clopidogrel', 'Ondansetron', 'Risperidone', 'Montelukast', 'Methotrexate', 'Amoxicillin', 'Azithromycin', 'Ondansetron', 'Ondansetron', 'Atorvastatin', 'Amoxicillin', 'Methotrexate', 'Ondansetron', 'Azithromycin', 'Methotrexate', 'Metformin', 'Memantine', 'Azithromycin', 'Risperidone', 'Metformin', 'Risperidone', 'Atorvastatin', 'Clopidogrel', 'Risperidone', 'Clozapine', 'Memantine', 'Metoprolol', 'Baclofen', 'Baclofen', 'Clozapine', 'Citalopram', 'Losartan', 'Celecoxib', 'Pregabalin', 'Citalopram', 'Ondansetron', 'Celecoxib', 'Ibuprofen', 'Clozapine', 'Metoprolol', 'Baclofen', 'Metoprolol', 'Losartan', 'Clopidogrel', 'Citalopram', 'Baclofen', 'Memantine', 'Ibuprofen', 'Citalopram', 'Ondansetron', 'Celecoxib', 'Losartan', 'Clozapine', 'Risperidone', 'Losartan', 'Pregabalin', 'Citalopram', 'Metoprolol', 'Risperidone', 'Pregabalin', 'Celecoxib', 'Pregabalin', 'Clopidogrel', 'Esomeprazole', 'Furosemide', 'Atorvastatin', 'Ranitidine', 'Warfarin', 'Varenicline', 'Atorvastatin', 'Clozapine', 'Phenobarbital', 'Salbutamol', 'Atorvastatin', 'Salbutamol', 'Baclofen', 'Warfarin', 'Furosemide', 'Phenobarbital', 'Varenicline', 'Warfarin', 'Salbutamol', 'Esomeprazole', 'Losartan', 'Varenicline', 'Ranitidine', 'Clozapine', 'Esomeprazole', 'Celecoxib', 'Pregabalin', 'Esomeprazole', 'Pregabalin', 'Phenobarbital', 'Esomeprazole', 'Esomeprazole', 'Salbutamol', 'Atorvastatin', 'Baclofen', 'Furosemide', 'Furosemide', 'Phenobarbital', 'Varenicline', 'Celecoxib', 'Warfarin', 'Losartan']\n",
            "['Paracetamol', 'Amoxicillin', 'Phenobarbital', 'Furosemide', 'Amoxicillin', 'Mirtazapine', 'Levothyroxine', 'Methylphenidate', 'Bupropion', 'Lorazepam', 'Ibuprofen', 'Paracetamol', 'Lisinopril', 'Mirtazapine', 'Warfarin', 'Varenicline', 'Phenobarbital', 'Varenicline', 'Warfarin', 'Mirtazapine', 'Paracetamol', 'Mirtazapine', 'Levothyroxine', 'Methylphenidate', 'Bupropion', 'Lorazepam', 'Ibuprofen', 'Mirtazapine', 'Lisinopril', 'Levothyroxine', 'Methylphenidate', 'Bupropion', 'Lorazepam', 'Ibuprofen', 'Paracetamol', 'Furosemide', 'Lisinopril', 'Lisinopril', 'Ibuprofen', 'Lorazepam', 'Methylphenidate', 'Lisinopril', 'Mirtazapine', 'Levothyroxine', 'Bupropion', 'Tiotropium', 'Fluoxetine', 'Tiotropium', 'Hydrochlorothiazide', 'Metformin', 'Lorazepam', 'Metoprolol', 'Bupropion', 'Montelukast', 'Lorazepam', 'Levothyroxine', 'Montelukast', 'Hydrochlorothiazide', 'Tadalafil', 'Ranitidine', 'Ranitidine', 'Hydrochlorothiazide', 'Fluoxetine', 'Metformin', 'Tiotropium', 'Montelukast', 'Tadalafil', 'Metformin', 'Ranitidine', 'Ranitidine', 'Hydrochlorothiazide', 'Fluoxetine', 'Tiotropium', 'Montelukast', 'Tadalafil', 'Tadalafil', 'Methylphenidate', 'Bupropion', 'Metoprolol', 'Hydrochlorothiazide', 'Metformin', 'Hydrochlorothiazide', 'Methylphenidate', 'Levothyroxine', 'Fluoxetine', 'Memantine', 'Memantine', 'Methotrexate', 'Fluoxetine', 'Fluoxetine', 'Tiotropium', 'Methotrexate', 'Montelukast', 'Methotrexate', 'Tadalafil', 'Azithromycin', 'Tiotropium', 'Amoxicillin', 'Tadalafil', 'Clopidogrel', 'Clopidogrel', 'Memantine', 'Amoxicillin', 'Clopidogrel', 'Ondansetron', 'Risperidone', 'Montelukast', 'Methotrexate', 'Amoxicillin', 'Azithromycin', 'Ondansetron', 'Ondansetron', 'Atorvastatin', 'Amoxicillin', 'Methotrexate', 'Ondansetron', 'Azithromycin', 'Methotrexate', 'Metformin', 'Memantine', 'Azithromycin', 'Risperidone', 'Metformin', 'Risperidone', 'Atorvastatin', 'Clopidogrel', 'Risperidone', 'Clozapine', 'Memantine', 'Metoprolol', 'Baclofen', 'Baclofen', 'Clozapine', 'Citalopram', 'Losartan', 'Celecoxib', 'Pregabalin', 'Citalopram', 'Ondansetron', 'Celecoxib', 'Ibuprofen', 'Clozapine', 'Metoprolol', 'Baclofen', 'Metoprolol', 'Losartan', 'Clopidogrel', 'Citalopram', 'Baclofen', 'Memantine', 'Ibuprofen', 'Citalopram', 'Ondansetron', 'Celecoxib', 'Losartan', 'Clozapine', 'Risperidone', 'Losartan', 'Pregabalin', 'Citalopram', 'Metoprolol', 'Risperidone', 'Pregabalin', 'Celecoxib', 'Pregabalin', 'Clopidogrel', 'Esomeprazole', 'Furosemide', 'Atorvastatin', 'Ranitidine', 'Warfarin', 'Varenicline', 'Atorvastatin', 'Clozapine', 'Phenobarbital', 'Salbutamol', 'Atorvastatin', 'Salbutamol', 'Baclofen', 'Warfarin', 'Furosemide', 'Phenobarbital', 'Varenicline', 'Warfarin', 'Salbutamol', 'Esomeprazole', 'Losartan', 'Varenicline', 'Ranitidine', 'Clozapine', 'Esomeprazole', 'Celecoxib', 'Pregabalin', 'Esomeprazole', 'Pregabalin', 'Phenobarbital', 'Esomeprazole', 'Esomeprazole', 'Salbutamol', 'Atorvastatin', 'Baclofen', 'Furosemide', 'Furosemide', 'Phenobarbital', 'Varenicline', 'Celecoxib', 'Warfarin', 'Losartan']\n",
            "['Paracetamol', 'Amoxicillin', 'Phenobarbital', 'Furosemide', 'Amoxicillin', 'Mirtazapine', 'Levothyroxine', 'Methylphenidate', 'Bupropion', 'Lorazepam', 'Ibuprofen', 'Paracetamol', 'Lisinopril', 'Mirtazapine', 'Warfarin', 'Varenicline', 'Phenobarbital', 'Varenicline', 'Warfarin', 'Mirtazapine', 'Paracetamol', 'Mirtazapine', 'Levothyroxine', 'Methylphenidate', 'Bupropion', 'Lorazepam', 'Ibuprofen', 'Mirtazapine', 'Lisinopril', 'Levothyroxine', 'Methylphenidate', 'Bupropion', 'Lorazepam', 'Ibuprofen', 'Paracetamol', 'Furosemide', 'Lisinopril', 'Lisinopril', 'Ibuprofen', 'Lorazepam', 'Methylphenidate', 'Lisinopril', 'Mirtazapine', 'Levothyroxine', 'Bupropion', 'Tiotropium', 'Fluoxetine', 'Tiotropium', 'Hydrochlorothiazide', 'Metformin', 'Lorazepam', 'Metoprolol', 'Bupropion', 'Montelukast', 'Lorazepam', 'Levothyroxine', 'Montelukast', 'Hydrochlorothiazide', 'Tadalafil', 'Ranitidine', 'Ranitidine', 'Hydrochlorothiazide', 'Fluoxetine', 'Metformin', 'Tiotropium', 'Montelukast', 'Tadalafil', 'Metformin', 'Ranitidine', 'Ranitidine', 'Hydrochlorothiazide', 'Fluoxetine', 'Tiotropium', 'Montelukast', 'Tadalafil', 'Tadalafil', 'Methylphenidate', 'Bupropion', 'Metoprolol', 'Hydrochlorothiazide', 'Metformin', 'Hydrochlorothiazide', 'Methylphenidate', 'Levothyroxine', 'Fluoxetine', 'Memantine', 'Memantine', 'Methotrexate', 'Fluoxetine', 'Fluoxetine', 'Tiotropium', 'Methotrexate', 'Montelukast', 'Methotrexate', 'Tadalafil', 'Azithromycin', 'Tiotropium', 'Amoxicillin', 'Tadalafil', 'Clopidogrel', 'Clopidogrel', 'Memantine', 'Amoxicillin', 'Clopidogrel', 'Ondansetron', 'Risperidone', 'Montelukast', 'Methotrexate', 'Amoxicillin', 'Azithromycin', 'Ondansetron', 'Ondansetron', 'Atorvastatin', 'Amoxicillin', 'Methotrexate', 'Ondansetron', 'Azithromycin', 'Methotrexate', 'Metformin', 'Memantine', 'Azithromycin', 'Risperidone', 'Metformin', 'Risperidone', 'Atorvastatin', 'Clopidogrel', 'Risperidone', 'Clozapine', 'Memantine', 'Metoprolol', 'Baclofen', 'Baclofen', 'Clozapine', 'Citalopram', 'Losartan', 'Celecoxib', 'Pregabalin', 'Citalopram', 'Ondansetron', 'Celecoxib', 'Ibuprofen', 'Clozapine', 'Metoprolol', 'Baclofen', 'Metoprolol', 'Losartan', 'Clopidogrel', 'Citalopram', 'Baclofen', 'Memantine', 'Ibuprofen', 'Citalopram', 'Ondansetron', 'Celecoxib', 'Losartan', 'Clozapine', 'Risperidone', 'Losartan', 'Pregabalin', 'Citalopram', 'Metoprolol', 'Risperidone', 'Pregabalin', 'Celecoxib', 'Pregabalin', 'Clopidogrel', 'Esomeprazole', 'Furosemide', 'Atorvastatin', 'Ranitidine', 'Warfarin', 'Varenicline', 'Atorvastatin', 'Clozapine', 'Phenobarbital', 'Salbutamol', 'Atorvastatin', 'Salbutamol', 'Baclofen', 'Warfarin', 'Furosemide', 'Phenobarbital', 'Varenicline', 'Warfarin', 'Salbutamol', 'Esomeprazole', 'Losartan', 'Varenicline', 'Ranitidine', 'Clozapine', 'Esomeprazole', 'Celecoxib', 'Pregabalin', 'Esomeprazole', 'Pregabalin', 'Phenobarbital', 'Esomeprazole', 'Esomeprazole', 'Salbutamol', 'Atorvastatin', 'Baclofen', 'Furosemide', 'Furosemide', 'Phenobarbital', 'Varenicline', 'Celecoxib', 'Warfarin', 'Losartan']\n"
          ]
        }
      ]
    },
    {
      "cell_type": "code",
      "source": [
        "summer = []\n",
        "winter = []\n",
        "autumn = []\n",
        "spring = []\n",
        "for i in range(0,10):\n",
        "  summer.append(s[i])\n",
        "for i in range(11,20):\n",
        "  winter.append(w[i])\n",
        "for i in range(21,30):\n",
        "  spring.append(sp[i])\n",
        "for i in range(31,40):\n",
        "  autumn.append(aut[i])\n",
        "print(\"Winter:\", winter)\n",
        "print(\"Summer:\", summer)\n",
        "print(\"Autumn:\", autumn)\n",
        "print(\"Spring:\", spring)\n",
        "print(win)\n",
        "print(sumer)\n",
        "print(sprin)\n",
        "print(atum)"
      ],
      "metadata": {
        "id": "opK2vzj0bDH8",
        "colab": {
          "base_uri": "https://localhost:8080/"
        },
        "outputId": "c817e1d2-47a0-4ba6-d9b8-2216a4914174"
      },
      "execution_count": 108,
      "outputs": [
        {
          "output_type": "stream",
          "name": "stdout",
          "text": [
            "Winter: ['Paracetamol', 'Lisinopril', 'Mirtazapine', 'Warfarin', 'Varenicline', 'Phenobarbital', 'Varenicline', 'Warfarin', 'Mirtazapine']\n",
            "Summer: ['Paracetamol', 'Amoxicillin', 'Phenobarbital', 'Furosemide', 'Amoxicillin', 'Mirtazapine', 'Levothyroxine', 'Methylphenidate', 'Bupropion', 'Lorazepam']\n",
            "Autumn: ['Bupropion', 'Lorazepam', 'Ibuprofen', 'Paracetamol', 'Furosemide', 'Lisinopril', 'Lisinopril', 'Ibuprofen', 'Lorazepam']\n",
            "Spring: ['Mirtazapine', 'Levothyroxine', 'Methylphenidate', 'Bupropion', 'Lorazepam', 'Ibuprofen', 'Mirtazapine', 'Lisinopril', 'Levothyroxine']\n",
            "[344, 344, 344, 344, 344, 344, 344, 344, 344, 344, 344, 344, 344, 344, 344, 344, 344, 344, 344, 344, 344, 344, 344, 344, 344, 344, 344, 344, 344, 344, 344, 344, 344, 344, 344, 344, 344, 344, 344, 344, 344, 344, 344, 344, 344, 248, 248, 248, 248, 248, 248, 248, 248, 248, 248, 248, 248, 248, 248, 248, 248, 248, 248, 248, 248, 248, 248, 248, 248, 248, 248, 248, 248, 248, 248, 248, 248, 248, 248, 248, 248, 248, 248, 248, 248, 192, 192, 192, 192, 192, 192, 192, 192, 192, 192, 192, 192, 192, 192, 192, 192, 192, 192, 192, 192, 192, 192, 192, 192, 192, 192, 192, 192, 192, 192, 192, 192, 192, 192, 192, 192, 192, 192, 192, 192, 192, 192, 120, 120, 120, 120, 120, 120, 120, 120, 120, 120, 120, 120, 120, 120, 120, 120, 120, 120, 120, 120, 120, 120, 120, 120, 120, 120, 120, 120, 120, 120, 120, 120, 120, 120, 120, 120, 120, 120, 120, 96, 96, 96, 96, 96, 96, 96, 96, 96, 96, 96, 96, 96, 96, 96, 96, 96, 96, 96, 96, 96, 96, 96, 96, 96, 96, 96, 96, 96, 96, 96, 96, 96, 96, 96, 96, 96, 96, 96, 96, 96, 96]\n",
            "[272, 272, 272, 272, 272, 272, 272, 272, 272, 272, 272, 272, 272, 272, 272, 272, 272, 272, 272, 272, 272, 272, 272, 272, 272, 272, 272, 272, 272, 272, 272, 272, 272, 272, 272, 272, 272, 272, 272, 272, 272, 272, 272, 272, 272, 200, 200, 200, 200, 200, 200, 200, 200, 200, 200, 200, 200, 200, 200, 200, 200, 200, 200, 200, 200, 200, 200, 200, 200, 200, 200, 200, 200, 200, 200, 200, 200, 200, 200, 200, 200, 200, 200, 200, 200, 152, 152, 152, 152, 152, 152, 152, 152, 152, 152, 152, 152, 152, 152, 152, 152, 152, 152, 152, 152, 152, 152, 152, 152, 152, 152, 152, 152, 152, 152, 152, 152, 152, 152, 152, 152, 152, 152, 152, 152, 152, 152, 120, 120, 120, 120, 120, 120, 120, 120, 120, 120, 120, 120, 120, 120, 120, 120, 120, 120, 120, 120, 120, 120, 120, 120, 120, 120, 120, 120, 120, 120, 120, 120, 120, 120, 120, 120, 120, 120, 120, 96, 96, 96, 96, 96, 96, 96, 96, 96, 96, 96, 96, 96, 96, 96, 96, 96, 96, 96, 96, 96, 96, 96, 96, 96, 96, 96, 96, 96, 96, 96, 96, 96, 96, 96, 96, 96, 96, 96, 96, 96, 96]\n",
            "[280, 280, 280, 280, 280, 280, 280, 280, 280, 280, 280, 280, 280, 280, 280, 280, 280, 280, 280, 280, 280, 280, 280, 280, 280, 280, 280, 280, 280, 280, 280, 280, 280, 280, 280, 280, 280, 280, 280, 280, 280, 280, 280, 280, 280, 224, 224, 224, 224, 224, 224, 224, 224, 224, 224, 224, 224, 224, 224, 224, 224, 224, 224, 224, 224, 224, 224, 224, 224, 224, 224, 224, 224, 224, 224, 224, 224, 224, 224, 224, 224, 224, 224, 224, 224, 152, 152, 152, 152, 152, 152, 152, 152, 152, 152, 152, 152, 152, 152, 152, 152, 152, 152, 152, 152, 152, 152, 152, 152, 152, 152, 152, 152, 152, 152, 152, 152, 152, 152, 152, 152, 152, 152, 152, 152, 152, 152, 112, 112, 112, 112, 112, 112, 112, 112, 112, 112, 112, 112, 112, 112, 112, 112, 112, 112, 112, 112, 112, 112, 112, 112, 112, 112, 112, 112, 112, 112, 112, 112, 112, 112, 112, 112, 112, 112, 112, 88, 88, 88, 88, 88, 88, 88, 88, 88, 88, 88, 88, 88, 88, 88, 88, 88, 88, 88, 88, 88, 88, 88, 88, 88, 88, 88, 88, 88, 88, 88, 88, 88, 88, 88, 88, 88, 88, 88, 88, 88, 88]\n",
            "[280, 280, 280, 280, 280, 280, 280, 280, 280, 280, 280, 280, 280, 280, 280, 280, 280, 280, 280, 280, 280, 280, 280, 280, 280, 280, 280, 280, 280, 280, 280, 280, 280, 280, 280, 280, 280, 280, 280, 280, 280, 280, 280, 280, 280, 216, 216, 216, 216, 216, 216, 216, 216, 216, 216, 216, 216, 216, 216, 216, 216, 216, 216, 216, 216, 216, 216, 216, 216, 216, 216, 216, 216, 216, 216, 216, 216, 216, 216, 216, 216, 216, 216, 216, 216, 168, 168, 168, 168, 168, 168, 168, 168, 168, 168, 168, 168, 168, 168, 168, 168, 168, 168, 168, 168, 168, 168, 168, 168, 168, 168, 168, 168, 168, 168, 168, 168, 168, 168, 168, 168, 168, 168, 168, 168, 168, 168, 112, 112, 112, 112, 112, 112, 112, 112, 112, 112, 112, 112, 112, 112, 112, 112, 112, 112, 112, 112, 112, 112, 112, 112, 112, 112, 112, 112, 112, 112, 112, 112, 112, 112, 112, 112, 112, 112, 112, 88, 88, 88, 88, 88, 88, 88, 88, 88, 88, 88, 88, 88, 88, 88, 88, 88, 88, 88, 88, 88, 88, 88, 88, 88, 88, 88, 88, 88, 88, 88, 88, 88, 88, 88, 88, 88, 88, 88, 88, 88, 88]\n"
          ]
        }
      ]
    },
    {
      "cell_type": "code",
      "source": [
        "w10 = list(set(win))  # Convert set to list to maintain order\n",
        "w10.sort(key=lambda x: -x)  # Sort in descending order\n",
        "print(w10)\n",
        "\n",
        "s10= list(set(sumer))  # Convert set to list to maintain order\n",
        "s10.sort(key=lambda x: -x)  # Sort in descending order\n",
        "print(s10)\n",
        "\n",
        "sp10 = list(set(sprin))  # Convert set to list to maintain order\n",
        "sp10.sort(key=lambda x: -x)  # Sort in descending order\n",
        "print(sp10)\n",
        "\n",
        "at10 = list(set(atum))  # Convert set to list to maintain order\n",
        "at10.sort(key=lambda x: -x)  # Sort in descending order\n",
        "print(at10)\n"
      ],
      "metadata": {
        "colab": {
          "base_uri": "https://localhost:8080/"
        },
        "id": "RJfJS63-APLH",
        "outputId": "1c3b123e-3a2f-4a76-f735-12bf74257a00"
      },
      "execution_count": 119,
      "outputs": [
        {
          "output_type": "stream",
          "name": "stdout",
          "text": [
            "[344, 248, 192, 120, 96]\n",
            "[272, 200, 152, 120, 96]\n",
            "[280, 224, 152, 112, 88]\n",
            "[280, 216, 168, 112, 88]\n"
          ]
        }
      ]
    },
    {
      "cell_type": "code",
      "source": [
        "import matplotlib.pyplot as plt\n",
        "\n",
        "# Count occurrences\n",
        "occurrences1 = {num: win.count(num) for num in w10}\n",
        "occurrences2 = {num: sumer.count(num) for num in s10}\n",
        "occurrences3 = {num: sprin.count(num) for num in sp10}\n",
        "occurrences4 = {num: atum.count(num) for num in at10}\n",
        "\n",
        "# Plotting\n",
        "plt.bar(occurrences1.keys(), occurrences1.values())\n",
        "plt.bar(occurrences2.keys(), occurrences2.values())\n",
        "plt.bar(occurrences3.keys(), occurrences3.values())\n",
        "plt.bar(occurrences4.keys(), occurrences4.values())\n",
        "plt.xlabel('Number')\n",
        "plt.ylabel('Occurrences')\n",
        "plt.title('Occurrences of Numbers in Array')\n",
        "plt.xticks(rotation=45)  # Rotate x-axis labels for better readability\n",
        "plt.tight_layout()\n",
        "plt.show()\n"
      ],
      "metadata": {
        "colab": {
          "base_uri": "https://localhost:8080/",
          "height": 507
        },
        "id": "HooGz5X6Bpss",
        "outputId": "2d869a62-8d88-40f8-de02-770cf17fcdab"
      },
      "execution_count": 124,
      "outputs": [
        {
          "output_type": "display_data",
          "data": {
            "text/plain": [
              "<Figure size 640x480 with 1 Axes>"
            ],
            "image/png": "[encoded data removed]"
          },
          "metadata": {}
        }
      ]
    },
    {
      "cell_type": "code",
      "source": [
        "import matplotlib.pyplot as plt\n",
        "# Fill these with your actual data\n",
        "\n",
        "# Count occurrences in one line\n",
        "occurrences = {\n",
        "    'Winter': {num: w10.count(num) for num in w10},\n",
        "    'Summer': {num: s10.count(num) for num in s10},\n",
        "    'Spring': {num: sp10.count(num) for num in sp10},\n",
        "    'Autumn': {num: at10.count(num) for num in at10}\n",
        "}\n",
        "\n",
        "# Correctly flatten the occurrences dictionary to get a combined list of occurrences\n",
        "flattened_occurrences = {}\n",
        "for season, counts in occurrences.items():\n",
        "    for num, count in counts.items():\n",
        "        flattened_occurrences.setdefault(num, []).extend([(season, count)])\n",
        "\n",
        "# Separate the numbers and their counts for plotting\n",
        "numbers = list(flattened_occurrences.keys())\n",
        "counts = [sum([count for _, count in occurrences]) for occurrences in flattened_occurrences.values()]\n",
        "\n",
        "# Define colors for each season\n",
        "colors = {'Winter': 'tab:red', 'Summer': 'tab:blue', 'Spring': 'tab:green', 'Autumn': 'tab:purple'}\n",
        "\n",
        "# Create a bar graph\n",
        "fig, ax = plt.subplots()\n",
        "\n",
        "# Plot bars with specific colors and labels\n",
        "for num, count in zip(numbers, counts):\n",
        "    # Determine the season with the highest occurrence count for each number\n",
        "    max_season = max([season for season, _ in flattened_occurrences[num]], key=lambda season: flattened_occurrences[num].count(season))\n",
        "    ax.bar(num, count, color=colors[max_season], label=num)\n",
        "\n",
        "# Add a legend\n",
        "ax.legend(title=\"counts\")\n",
        "\n",
        "# Customize the graph\n",
        "ax.set_xlabel(\"Number\")\n",
        "ax.set_ylabel(\"counts\")\n",
        "ax.set_title(\"Occurrences of Drugs Across Seasons\")\n",
        "\n",
        "plt.show()\n"
      ],
      "metadata": {
        "colab": {
          "base_uri": "https://localhost:8080/",
          "height": 492
        },
        "id": "UJTQbwfdEEOA",
        "outputId": "c5149888-d7c9-4f14-b4a9-f7208798348e"
      },
      "execution_count": 135,
      "outputs": [
        {
          "output_type": "display_data",
          "data": {
            "text/plain": [
              "<Figure size 640x480 with 1 Axes>"
            ],
            "image/png": "[encoded data removed]"
          },
          "metadata": {}
        }
      ]
    },
    {
      "cell_type": "code",
      "source": [],
      "metadata": {
        "id": "uc161GoJFg5d"
      },
      "execution_count": null,
      "outputs": []
    }
  ],
  "metadata": {
    "colab": {
      "provenance": []
    },
    "kernelspec": {
      "display_name": "Python 3",
      "name": "python3"
    },
    "language_info": {
      "name": "python"
    }
  },
  "nbformat": 4,
  "nbformat_minor": 0
}